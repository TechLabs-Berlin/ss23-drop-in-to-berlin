{
 "cells": [
  {
   "cell_type": "code",
   "execution_count": 19,
   "metadata": {
    "collapsed": true,
    "ExecuteTime": {
     "end_time": "2023-10-24T14:35:45.913274200Z",
     "start_time": "2023-10-24T14:35:45.887631800Z"
    }
   },
   "outputs": [],
   "source": [
    "import pandas as pd\n",
    "import googlemaps\n",
    "import numpy as np"
   ]
  },
  {
   "cell_type": "code",
   "execution_count": 3,
   "outputs": [],
   "source": [
    "df = pd.read_csv(\"../DL/database_Leo.csv\")"
   ],
   "metadata": {
    "collapsed": false,
    "ExecuteTime": {
     "end_time": "2023-10-24T14:18:03.180174700Z",
     "start_time": "2023-10-24T14:18:02.466999800Z"
    }
   }
  },
  {
   "cell_type": "code",
   "execution_count": 9,
   "outputs": [],
   "source": [
    "gmaps = googlemaps.Client(key='')"
   ],
   "metadata": {
    "collapsed": false,
    "ExecuteTime": {
     "end_time": "2023-10-24T14:21:21.466446800Z",
     "start_time": "2023-10-24T14:21:21.451447800Z"
    }
   }
  },
  {
   "cell_type": "code",
   "execution_count": 26,
   "outputs": [],
   "source": [
    "image = gmaps.places_photo(\"AfLeUgNM8BitzpKvhGh9ZKoAzFcbZSh6D_n8ULCrtiHzdmqTgTuHy73bfVy4J3dJq2zBAtQN8gyjSy9ig-k0FcaCmWpIOG1Vl56KZNtGY7HI8Im3dLm8CAaL5mNa_Dc4MtFEFvqanc2iO8dcQDUqW57JnFSdPwMd5vAY_Fk0GEM8u8NJw7a1\", max_width=5000, max_height=5000)"
   ],
   "metadata": {
    "collapsed": false,
    "ExecuteTime": {
     "end_time": "2023-10-24T14:41:47.576639700Z",
     "start_time": "2023-10-24T14:41:46.913744400Z"
    }
   }
  },
  {
   "cell_type": "code",
   "execution_count": 29,
   "outputs": [],
   "source": [
    "f = open(\"test.jpg\", 'wb')\n",
    "for chunk in image:\n",
    "    if chunk:\n",
    "        f.write(chunk)\n",
    "f.close()"
   ],
   "metadata": {
    "collapsed": false,
    "ExecuteTime": {
     "end_time": "2023-10-24T15:04:02.726812300Z",
     "start_time": "2023-10-24T15:04:02.683085600Z"
    }
   }
  },
  {
   "cell_type": "code",
   "execution_count": 31,
   "outputs": [
    {
     "data": {
      "text/plain": "0       [{'height': 3584, 'html_attributions': ['<a hr...\n1       [{'height': 1080, 'html_attributions': ['<a hr...\n2       [{'height': 3744, 'html_attributions': ['<a hr...\n3       [{'height': 669, 'html_attributions': ['<a hre...\n4       [{'height': 3024, 'html_attributions': ['<a hr...\n                              ...                        \n4297    [{'height': 1224, 'html_attributions': ['<a hr...\n4298    [{'height': 2448, 'html_attributions': ['<a hr...\n4299    [{'height': 1920, 'html_attributions': ['<a hr...\n4300    [{'height': 3024, 'html_attributions': ['<a hr...\n4301    [{'height': 2269, 'html_attributions': ['<a hr...\nName: photos, Length: 4273, dtype: object"
     },
     "execution_count": 31,
     "metadata": {},
     "output_type": "execute_result"
    }
   ],
   "source": [
    "df.photos"
   ],
   "metadata": {
    "collapsed": false,
    "ExecuteTime": {
     "end_time": "2023-10-24T15:08:26.225014600Z",
     "start_time": "2023-10-24T15:08:26.211148500Z"
    }
   }
  },
  {
   "cell_type": "code",
   "execution_count": null,
   "outputs": [],
   "source": [],
   "metadata": {
    "collapsed": false
   }
  }
 ],
 "metadata": {
  "kernelspec": {
   "display_name": "Python 3",
   "language": "python",
   "name": "python3"
  },
  "language_info": {
   "codemirror_mode": {
    "name": "ipython",
    "version": 2
   },
   "file_extension": ".py",
   "mimetype": "text/x-python",
   "name": "python",
   "nbconvert_exporter": "python",
   "pygments_lexer": "ipython2",
   "version": "2.7.6"
  }
 },
 "nbformat": 4,
 "nbformat_minor": 0
}
