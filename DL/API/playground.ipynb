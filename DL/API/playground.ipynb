{
 "cells": [
  {
   "cell_type": "markdown",
   "source": [
    "# This is where I write & test new code"
   ],
   "metadata": {
    "collapsed": false
   }
  },
  {
   "cell_type": "code",
   "execution_count": 2,
   "outputs": [],
   "source": [
    "import joblib\n",
    "import pandas as pd"
   ],
   "metadata": {
    "collapsed": false,
    "ExecuteTime": {
     "end_time": "2023-09-30T12:49:54.430519Z",
     "start_time": "2023-09-30T12:49:54.406168100Z"
    }
   }
  },
  {
   "cell_type": "code",
   "execution_count": 7,
   "metadata": {
    "collapsed": true,
    "ExecuteTime": {
     "end_time": "2023-09-29T10:00:47.248940600Z",
     "start_time": "2023-09-29T10:00:46.767053800Z"
    }
   },
   "outputs": [
    {
     "name": "stdout",
     "output_type": "stream",
     "text": [
      "4 2 Burger place with 60s style interior and roller-scating waitresses\n"
     ]
    }
   ],
   "source": [
    "star_rating = 4\n",
    "price = 2\n",
    "user_input_str = \"Burger place with 60s style interior and roller-scating waitresses\"\n",
    "\n",
    "# print variables to see if they are picked up correctly from user input\n",
    "print(star_rating, price, user_input_str)\n",
    "\n",
    "# Load the model from .joblib file\n",
    "with open(\"NearestNeighbors_clf.joblib\", \"rb\") as file:\n",
    "    loaded_model = joblib.load(file)\n",
    "\n",
    "# load the database from .csv file\n",
    "df = pd.read_csv(\"../database_Leo.csv\")\n",
    "\n",
    "with open(\"SentenceTransformer_model.joblib\", \"rb\") as file:\n",
    "    sentence_model = joblib.load(file)\n",
    "\n",
    "# create embeddings for user input\n",
    "user_input_emb = sentence_model.encode(user_input_str).reshape(1, -1)\n",
    "\n",
    "# make prediction based on user input\n",
    "distances, indices = loaded_model.kneighbors(user_input_emb)\n",
    "# flatten indices array to use as index in dataframe\n",
    "indices = indices.flatten()\n",
    "\n",
    "# filter the whole dataframe for star rating above the user given value and below given price\n",
    "df_filtered = df[df.index.isin(indices) & (df.rating > star_rating) & (df.price_level < price)]\n",
    "\n",
    "# get all data points without values for price level\n",
    "df_price_nan = df[df.index.isin(indices) & df.price_level.isna()]\n",
    "\n",
    "# combine both into the output\n",
    "\n",
    "# get ID's to return\n",
    "recs = list(pd.concat([df_filtered, df_price_nan])[\"reference\"])"
   ]
  },
  {
   "cell_type": "code",
   "execution_count": 15,
   "outputs": [],
   "source": [
    "df_filtered = df[df.index.isin(indices) & (df.rating > star_rating) & (df.price_level < price)]"
   ],
   "metadata": {
    "collapsed": false,
    "ExecuteTime": {
     "end_time": "2023-09-29T10:10:33.814975800Z",
     "start_time": "2023-09-29T10:10:33.788245Z"
    }
   }
  },
  {
   "cell_type": "code",
   "execution_count": 24,
   "outputs": [],
   "source": [
    "df_price_nan = df[df.index.isin(indices) & df.price_level.isna()]"
   ],
   "metadata": {
    "collapsed": false,
    "ExecuteTime": {
     "end_time": "2023-09-29T10:12:39.618737400Z",
     "start_time": "2023-09-29T10:12:39.604336Z"
    }
   }
  },
  {
   "cell_type": "code",
   "execution_count": 25,
   "outputs": [
    {
     "data": {
      "text/plain": "      Unnamed: 0.2                                               name  \\\n153            153                                      Burger Fabrik   \n2107          2107                        Wirtshaus \"Heide am Wasser\"   \n2863          2863                                      Pizza Express   \n3265          3265                              Trattoria Sale & Pepe   \n1373          1373                          Hotel-Restaurant Matzbach   \n1432          1432                             Ocean Fisch Restaurant   \n1531          1531  Alpentruck Berlin - Österreichische Spezialitäten   \n2181          2181                                  Original Ketwurst   \n3464          3464                                  Zagros Restaurant   \n4015          4015                                          El Gaucho   \n\n                        reference  \\\n153   ChIJ9bDYZW1RqEcR8GSxibNcfYw   \n2107  ChIJrQI4tK1HqEcRKF5LFjJ2098   \n2863  ChIJJ5GUNi5SqEcRaCPC_MDbOSE   \n3265  ChIJUc9LMg1WqEcRjVirfXIeGfI   \n1373  ChIJceOAL9hPqEcRL7zwVF_NZOg   \n1432  ChIJU-WzTvFPqEcRqgC67qFBQeE   \n1531  ChIJDXk2PoFPqEcRa10MWRdCSbE   \n2181  ChIJQeRqlrFIqEcRy-5NaZc97NI   \n3464  ChIJW89ru7NRqEcRNnQtGrcWhp4   \n4015  ChIJIX9QBrdUqEcRtaxkJXA590M   \n\n                                               geometry  \\\n153   {'location': {'lat': 52.53977039999999, 'lng':...   \n2107  {'location': {'lat': 52.4436336, 'lng': 13.484...   \n2863  {'location': {'lat': 52.5564124, 'lng': 13.373...   \n3265  {'location': {'lat': 52.55656, 'lng': 13.20723...   \n1373  {'location': {'lat': 52.48925819999999, 'lng':...   \n1432  {'location': {'lat': 52.4852403, 'lng': 13.432...   \n1531  {'location': {'lat': 52.480058, 'lng': 13.4549...   \n2181  {'location': {'lat': 52.45685, 'lng': 13.50842...   \n3464  {'location': {'lat': 52.506981, 'lng': 13.3017...   \n4015  {'location': {'lat': 52.6321533, 'lng': 13.310...   \n\n                                      formatted_address  price_level  rating  \\\n153           Kastanienallee 102, 10435 Berlin, Germany          1.0     4.5   \n2107                 Heideweg 77, 12487 Berlin, Germany          1.0     4.2   \n2863             Osloer Str. 83A, 13359 Berlin, Germany          1.0     4.4   \n3265             Streitstraße 76, 13587 Berlin, Germany          1.0     4.4   \n1373            Marheinekepl. 15, 10961 Berlin, Germany          NaN     4.5   \n1432              Sonnenallee 48, 12045 Berlin, Germany          NaN     4.3   \n1531               Kiehlufer 143, 12059 Berlin, Germany          NaN     5.0   \n2181          Schnellerstraße 21, 12439 Berlin, Germany          NaN     4.3   \n3464               Kantstraße 68, 10627 Berlin, Germany          NaN     4.9   \n4015  Schönfließer Str. 82, 16548 Glienicke/Nordbahn...          NaN     4.3   \n\n      user_ratings_total                                              types  \\\n153                558.0  ['restaurant', 'liquor_store', 'store', 'food'...   \n2107                89.0  ['restaurant', 'food', 'point_of_interest', 'e...   \n2863               162.0  ['meal_takeaway', 'restaurant', 'food', 'point...   \n3265               404.0  ['liquor_store', 'bar', 'restaurant', 'food', ...   \n1373               484.0  ['restaurant', 'park', 'lodging', 'food', 'bar...   \n1432               725.0  ['restaurant', 'food', 'point_of_interest', 'e...   \n1531                11.0  ['restaurant', 'food', 'point_of_interest', 'e...   \n2181                47.0  ['meal_takeaway', 'restaurant', 'food', 'point...   \n3464                36.0  ['restaurant', 'food', 'point_of_interest', 'e...   \n4015                 4.0  ['restaurant', 'food', 'point_of_interest', 'e...   \n\n                                      editorial_summary  ...  \\\n153   {'language': 'en', 'overview': 'Compact, rusti...  ...   \n2107                                                NaN  ...   \n2863  {'language': 'en', 'overview': 'Chain pizzeria...  ...   \n3265                                                NaN  ...   \n1373  {'language': 'en', 'overview': 'Colorful rooms...  ...   \n1432                                                NaN  ...   \n1531                                                NaN  ...   \n2181                                                NaN  ...   \n3464                                                NaN  ...   \n4015                                                NaN  ...   \n\n     wheelchair_accessible_entrance  \\\n153                             NaN   \n2107                            1.0   \n2863                            0.0   \n3265                            0.0   \n1373                            1.0   \n1432                            NaN   \n1531                            NaN   \n2181                            1.0   \n3464                            NaN   \n4015                            NaN   \n\n                                            website  \\\n153              https://www.burgerfabrikberlin.de/   \n2107                                            NaN   \n2863                                            NaN   \n3265         https://trattoria-sale-pepe.eatbu.com/   \n1373                http://www.matzbach-berlin.com/   \n1432  https://ocean-fisch-restaurant.business.site/   \n1531                     http://www.alpentruck.com/   \n2181                           http://ketwurst.com/   \n3464                                            NaN   \n4015                                            NaN   \n\n      international_phone_number  \\\n153              +49 30 43739888   \n2107             +49 30 63222082   \n2863              +49 30 4911025   \n3265             +49 30 75566527   \n1373             +49 30 61202292   \n1432            +49 1573 1729609   \n1531            +49 176 56987779   \n2181             +49 30 44050586   \n3464             +49 30 44323120   \n4015                         NaN   \n\n                                                 photos  \\\n153   [{'height': 4032, 'html_attributions': ['<a hr...   \n2107  [{'height': 3024, 'html_attributions': ['<a hr...   \n2863  [{'height': 2736, 'html_attributions': ['<a hr...   \n3265  [{'height': 2976, 'html_attributions': ['<a hr...   \n1373  [{'height': 1152, 'html_attributions': ['<a hr...   \n1432  [{'height': 3456, 'html_attributions': ['<a hr...   \n1531  [{'height': 1200, 'html_attributions': ['<a hr...   \n2181  [{'height': 2976, 'html_attributions': ['<a hr...   \n3464  [{'height': 2604, 'html_attributions': ['<a hr...   \n4015                                                NaN   \n\n                                      vicinity  \\\n153                 Kastanienallee 102, Berlin   \n2107                       Heideweg 77, Berlin   \n2863                   Osloer Str. 83A, Berlin   \n3265                   Streitstraße 76, Berlin   \n1373                  Marheinekepl. 15, Berlin   \n1432                    Sonnenallee 48, Berlin   \n1531                     Kiehlufer 143, Berlin   \n2181                Schnellerstraße 21, Berlin   \n3464                     Kantstraße 68, Berlin   \n4015  Schönfließer Str. 82, Glienicke/Nordbahn   \n\n                                                    url  business_status  \\\n153   https://www.google.com/maps/place/?q=place_id:...      OPERATIONAL   \n2107  https://www.google.com/maps/place/?q=place_id:...      OPERATIONAL   \n2863  https://www.google.com/maps/place/?q=place_id:...      OPERATIONAL   \n3265  https://www.google.com/maps/place/?q=place_id:...      OPERATIONAL   \n1373  https://www.google.com/maps/place/?q=place_id:...      OPERATIONAL   \n1432  https://www.google.com/maps/place/?q=place_id:...      OPERATIONAL   \n1531  https://www.google.com/maps/place/?q=place_id:...      OPERATIONAL   \n2181  https://www.google.com/maps/place/?q=place_id:...      OPERATIONAL   \n3464  https://www.google.com/maps/place/?q=place_id:...      OPERATIONAL   \n4015  https://www.google.com/maps/place/?q=place_id:...      OPERATIONAL   \n\n      permanently_closed                                          plus_code  \\\n153                  NaN  {'compound_code': 'GCQ6+WF Berlin', 'global_co...   \n2107                 NaN  {'compound_code': 'CFVM+FX Berlin', 'global_co...   \n2863                 NaN  {'compound_code': 'H94F+H7 Berlin', 'global_co...   \n3265                 NaN  {'compound_code': 'H644+JV Berlin', 'global_co...   \n1373                 NaN  {'compound_code': 'F9QW+P4 Berlin', 'global_co...   \n1432                 NaN  {'compound_code': 'FCPJ+3R Berlin', 'global_co...   \n1531                 NaN  {'compound_code': 'FFJ3+2X Berlin', 'global_co...   \n2181                 NaN  {'compound_code': 'FG45+P9 Berlin', 'global_co...   \n3464                 NaN  {'compound_code': 'G842+QM Berlin', 'global_co...   \n4015                 NaN  {'compound_code': 'J8J6+V7 Glienicke/Nordbahn'...   \n\n                                            model_input  \n153   \"not bad. i would say fries are better than in...  \n2107  \"schnitzel like at my mothers' :) it's a nice,...  \n2863  'friendly owner, salty pizza, good price', 'fo...  \n3265  'great, very very good spaghetti! (and i have ...  \n1373  \"great location, you won't leave the place hun...  \n1432  \"large portions. very tasty fish and rice and ...  \n1531  \"i have had the pleasure to hire simon and his...  \n2181  \"one of the last (east) berlin originals. they...  \n3464  'very delicious iranian food and friendly staf...  \n4015  'always worth a visit. if you want tasty meat,...  \n\n[10 rows x 33 columns]",
      "text/html": "<div>\n<style scoped>\n    .dataframe tbody tr th:only-of-type {\n        vertical-align: middle;\n    }\n\n    .dataframe tbody tr th {\n        vertical-align: top;\n    }\n\n    .dataframe thead th {\n        text-align: right;\n    }\n</style>\n<table border=\"1\" class=\"dataframe\">\n  <thead>\n    <tr style=\"text-align: right;\">\n      <th></th>\n      <th>Unnamed: 0.2</th>\n      <th>name</th>\n      <th>reference</th>\n      <th>geometry</th>\n      <th>formatted_address</th>\n      <th>price_level</th>\n      <th>rating</th>\n      <th>user_ratings_total</th>\n      <th>types</th>\n      <th>editorial_summary</th>\n      <th>...</th>\n      <th>wheelchair_accessible_entrance</th>\n      <th>website</th>\n      <th>international_phone_number</th>\n      <th>photos</th>\n      <th>vicinity</th>\n      <th>url</th>\n      <th>business_status</th>\n      <th>permanently_closed</th>\n      <th>plus_code</th>\n      <th>model_input</th>\n    </tr>\n  </thead>\n  <tbody>\n    <tr>\n      <th>153</th>\n      <td>153</td>\n      <td>Burger Fabrik</td>\n      <td>ChIJ9bDYZW1RqEcR8GSxibNcfYw</td>\n      <td>{'location': {'lat': 52.53977039999999, 'lng':...</td>\n      <td>Kastanienallee 102, 10435 Berlin, Germany</td>\n      <td>1.0</td>\n      <td>4.5</td>\n      <td>558.0</td>\n      <td>['restaurant', 'liquor_store', 'store', 'food'...</td>\n      <td>{'language': 'en', 'overview': 'Compact, rusti...</td>\n      <td>...</td>\n      <td>NaN</td>\n      <td>https://www.burgerfabrikberlin.de/</td>\n      <td>+49 30 43739888</td>\n      <td>[{'height': 4032, 'html_attributions': ['&lt;a hr...</td>\n      <td>Kastanienallee 102, Berlin</td>\n      <td>https://www.google.com/maps/place/?q=place_id:...</td>\n      <td>OPERATIONAL</td>\n      <td>NaN</td>\n      <td>{'compound_code': 'GCQ6+WF Berlin', 'global_co...</td>\n      <td>\"not bad. i would say fries are better than in...</td>\n    </tr>\n    <tr>\n      <th>2107</th>\n      <td>2107</td>\n      <td>Wirtshaus \"Heide am Wasser\"</td>\n      <td>ChIJrQI4tK1HqEcRKF5LFjJ2098</td>\n      <td>{'location': {'lat': 52.4436336, 'lng': 13.484...</td>\n      <td>Heideweg 77, 12487 Berlin, Germany</td>\n      <td>1.0</td>\n      <td>4.2</td>\n      <td>89.0</td>\n      <td>['restaurant', 'food', 'point_of_interest', 'e...</td>\n      <td>NaN</td>\n      <td>...</td>\n      <td>1.0</td>\n      <td>NaN</td>\n      <td>+49 30 63222082</td>\n      <td>[{'height': 3024, 'html_attributions': ['&lt;a hr...</td>\n      <td>Heideweg 77, Berlin</td>\n      <td>https://www.google.com/maps/place/?q=place_id:...</td>\n      <td>OPERATIONAL</td>\n      <td>NaN</td>\n      <td>{'compound_code': 'CFVM+FX Berlin', 'global_co...</td>\n      <td>\"schnitzel like at my mothers' :) it's a nice,...</td>\n    </tr>\n    <tr>\n      <th>2863</th>\n      <td>2863</td>\n      <td>Pizza Express</td>\n      <td>ChIJJ5GUNi5SqEcRaCPC_MDbOSE</td>\n      <td>{'location': {'lat': 52.5564124, 'lng': 13.373...</td>\n      <td>Osloer Str. 83A, 13359 Berlin, Germany</td>\n      <td>1.0</td>\n      <td>4.4</td>\n      <td>162.0</td>\n      <td>['meal_takeaway', 'restaurant', 'food', 'point...</td>\n      <td>{'language': 'en', 'overview': 'Chain pizzeria...</td>\n      <td>...</td>\n      <td>0.0</td>\n      <td>NaN</td>\n      <td>+49 30 4911025</td>\n      <td>[{'height': 2736, 'html_attributions': ['&lt;a hr...</td>\n      <td>Osloer Str. 83A, Berlin</td>\n      <td>https://www.google.com/maps/place/?q=place_id:...</td>\n      <td>OPERATIONAL</td>\n      <td>NaN</td>\n      <td>{'compound_code': 'H94F+H7 Berlin', 'global_co...</td>\n      <td>'friendly owner, salty pizza, good price', 'fo...</td>\n    </tr>\n    <tr>\n      <th>3265</th>\n      <td>3265</td>\n      <td>Trattoria Sale &amp; Pepe</td>\n      <td>ChIJUc9LMg1WqEcRjVirfXIeGfI</td>\n      <td>{'location': {'lat': 52.55656, 'lng': 13.20723...</td>\n      <td>Streitstraße 76, 13587 Berlin, Germany</td>\n      <td>1.0</td>\n      <td>4.4</td>\n      <td>404.0</td>\n      <td>['liquor_store', 'bar', 'restaurant', 'food', ...</td>\n      <td>NaN</td>\n      <td>...</td>\n      <td>0.0</td>\n      <td>https://trattoria-sale-pepe.eatbu.com/</td>\n      <td>+49 30 75566527</td>\n      <td>[{'height': 2976, 'html_attributions': ['&lt;a hr...</td>\n      <td>Streitstraße 76, Berlin</td>\n      <td>https://www.google.com/maps/place/?q=place_id:...</td>\n      <td>OPERATIONAL</td>\n      <td>NaN</td>\n      <td>{'compound_code': 'H644+JV Berlin', 'global_co...</td>\n      <td>'great, very very good spaghetti! (and i have ...</td>\n    </tr>\n    <tr>\n      <th>1373</th>\n      <td>1373</td>\n      <td>Hotel-Restaurant Matzbach</td>\n      <td>ChIJceOAL9hPqEcRL7zwVF_NZOg</td>\n      <td>{'location': {'lat': 52.48925819999999, 'lng':...</td>\n      <td>Marheinekepl. 15, 10961 Berlin, Germany</td>\n      <td>NaN</td>\n      <td>4.5</td>\n      <td>484.0</td>\n      <td>['restaurant', 'park', 'lodging', 'food', 'bar...</td>\n      <td>{'language': 'en', 'overview': 'Colorful rooms...</td>\n      <td>...</td>\n      <td>1.0</td>\n      <td>http://www.matzbach-berlin.com/</td>\n      <td>+49 30 61202292</td>\n      <td>[{'height': 1152, 'html_attributions': ['&lt;a hr...</td>\n      <td>Marheinekepl. 15, Berlin</td>\n      <td>https://www.google.com/maps/place/?q=place_id:...</td>\n      <td>OPERATIONAL</td>\n      <td>NaN</td>\n      <td>{'compound_code': 'F9QW+P4 Berlin', 'global_co...</td>\n      <td>\"great location, you won't leave the place hun...</td>\n    </tr>\n    <tr>\n      <th>1432</th>\n      <td>1432</td>\n      <td>Ocean Fisch Restaurant</td>\n      <td>ChIJU-WzTvFPqEcRqgC67qFBQeE</td>\n      <td>{'location': {'lat': 52.4852403, 'lng': 13.432...</td>\n      <td>Sonnenallee 48, 12045 Berlin, Germany</td>\n      <td>NaN</td>\n      <td>4.3</td>\n      <td>725.0</td>\n      <td>['restaurant', 'food', 'point_of_interest', 'e...</td>\n      <td>NaN</td>\n      <td>...</td>\n      <td>NaN</td>\n      <td>https://ocean-fisch-restaurant.business.site/</td>\n      <td>+49 1573 1729609</td>\n      <td>[{'height': 3456, 'html_attributions': ['&lt;a hr...</td>\n      <td>Sonnenallee 48, Berlin</td>\n      <td>https://www.google.com/maps/place/?q=place_id:...</td>\n      <td>OPERATIONAL</td>\n      <td>NaN</td>\n      <td>{'compound_code': 'FCPJ+3R Berlin', 'global_co...</td>\n      <td>\"large portions. very tasty fish and rice and ...</td>\n    </tr>\n    <tr>\n      <th>1531</th>\n      <td>1531</td>\n      <td>Alpentruck Berlin - Österreichische Spezialitäten</td>\n      <td>ChIJDXk2PoFPqEcRa10MWRdCSbE</td>\n      <td>{'location': {'lat': 52.480058, 'lng': 13.4549...</td>\n      <td>Kiehlufer 143, 12059 Berlin, Germany</td>\n      <td>NaN</td>\n      <td>5.0</td>\n      <td>11.0</td>\n      <td>['restaurant', 'food', 'point_of_interest', 'e...</td>\n      <td>NaN</td>\n      <td>...</td>\n      <td>NaN</td>\n      <td>http://www.alpentruck.com/</td>\n      <td>+49 176 56987779</td>\n      <td>[{'height': 1200, 'html_attributions': ['&lt;a hr...</td>\n      <td>Kiehlufer 143, Berlin</td>\n      <td>https://www.google.com/maps/place/?q=place_id:...</td>\n      <td>OPERATIONAL</td>\n      <td>NaN</td>\n      <td>{'compound_code': 'FFJ3+2X Berlin', 'global_co...</td>\n      <td>\"i have had the pleasure to hire simon and his...</td>\n    </tr>\n    <tr>\n      <th>2181</th>\n      <td>2181</td>\n      <td>Original Ketwurst</td>\n      <td>ChIJQeRqlrFIqEcRy-5NaZc97NI</td>\n      <td>{'location': {'lat': 52.45685, 'lng': 13.50842...</td>\n      <td>Schnellerstraße 21, 12439 Berlin, Germany</td>\n      <td>NaN</td>\n      <td>4.3</td>\n      <td>47.0</td>\n      <td>['meal_takeaway', 'restaurant', 'food', 'point...</td>\n      <td>NaN</td>\n      <td>...</td>\n      <td>1.0</td>\n      <td>http://ketwurst.com/</td>\n      <td>+49 30 44050586</td>\n      <td>[{'height': 2976, 'html_attributions': ['&lt;a hr...</td>\n      <td>Schnellerstraße 21, Berlin</td>\n      <td>https://www.google.com/maps/place/?q=place_id:...</td>\n      <td>OPERATIONAL</td>\n      <td>NaN</td>\n      <td>{'compound_code': 'FG45+P9 Berlin', 'global_co...</td>\n      <td>\"one of the last (east) berlin originals. they...</td>\n    </tr>\n    <tr>\n      <th>3464</th>\n      <td>3464</td>\n      <td>Zagros Restaurant</td>\n      <td>ChIJW89ru7NRqEcRNnQtGrcWhp4</td>\n      <td>{'location': {'lat': 52.506981, 'lng': 13.3017...</td>\n      <td>Kantstraße 68, 10627 Berlin, Germany</td>\n      <td>NaN</td>\n      <td>4.9</td>\n      <td>36.0</td>\n      <td>['restaurant', 'food', 'point_of_interest', 'e...</td>\n      <td>NaN</td>\n      <td>...</td>\n      <td>NaN</td>\n      <td>NaN</td>\n      <td>+49 30 44323120</td>\n      <td>[{'height': 2604, 'html_attributions': ['&lt;a hr...</td>\n      <td>Kantstraße 68, Berlin</td>\n      <td>https://www.google.com/maps/place/?q=place_id:...</td>\n      <td>OPERATIONAL</td>\n      <td>NaN</td>\n      <td>{'compound_code': 'G842+QM Berlin', 'global_co...</td>\n      <td>'very delicious iranian food and friendly staf...</td>\n    </tr>\n    <tr>\n      <th>4015</th>\n      <td>4015</td>\n      <td>El Gaucho</td>\n      <td>ChIJIX9QBrdUqEcRtaxkJXA590M</td>\n      <td>{'location': {'lat': 52.6321533, 'lng': 13.310...</td>\n      <td>Schönfließer Str. 82, 16548 Glienicke/Nordbahn...</td>\n      <td>NaN</td>\n      <td>4.3</td>\n      <td>4.0</td>\n      <td>['restaurant', 'food', 'point_of_interest', 'e...</td>\n      <td>NaN</td>\n      <td>...</td>\n      <td>NaN</td>\n      <td>NaN</td>\n      <td>NaN</td>\n      <td>NaN</td>\n      <td>Schönfließer Str. 82, Glienicke/Nordbahn</td>\n      <td>https://www.google.com/maps/place/?q=place_id:...</td>\n      <td>OPERATIONAL</td>\n      <td>NaN</td>\n      <td>{'compound_code': 'J8J6+V7 Glienicke/Nordbahn'...</td>\n      <td>'always worth a visit. if you want tasty meat,...</td>\n    </tr>\n  </tbody>\n</table>\n<p>10 rows × 33 columns</p>\n</div>"
     },
     "execution_count": 25,
     "metadata": {},
     "output_type": "execute_result"
    }
   ],
   "source": [
    "pd.concat([df_filtered, df_price_nan])"
   ],
   "metadata": {
    "collapsed": false,
    "ExecuteTime": {
     "end_time": "2023-09-29T10:12:59.394325Z",
     "start_time": "2023-09-29T10:12:59.340568Z"
    }
   }
  },
  {
   "cell_type": "code",
   "execution_count": 26,
   "outputs": [],
   "source": [
    "recs = list(pd.concat([df_filtered, df_price_nan])[\"reference\"])\n"
   ],
   "metadata": {
    "collapsed": false,
    "ExecuteTime": {
     "end_time": "2023-09-29T10:17:02.502350500Z",
     "start_time": "2023-09-29T10:17:02.498544Z"
    }
   }
  },
  {
   "cell_type": "code",
   "execution_count": null,
   "outputs": [],
   "source": [],
   "metadata": {
    "collapsed": false
   }
  }
 ],
 "metadata": {
  "kernelspec": {
   "display_name": "Python 3",
   "language": "python",
   "name": "python3"
  },
  "language_info": {
   "codemirror_mode": {
    "name": "ipython",
    "version": 2
   },
   "file_extension": ".py",
   "mimetype": "text/x-python",
   "name": "python",
   "nbconvert_exporter": "python",
   "pygments_lexer": "ipython2",
   "version": "2.7.6"
  }
 },
 "nbformat": 4,
 "nbformat_minor": 0
}
